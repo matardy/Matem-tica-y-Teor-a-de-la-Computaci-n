{
 "cells": [
  {
   "cell_type": "markdown",
   "metadata": {},
   "source": [
    "# Funciones, Secuencias y Relaciones.\n",
    "## Ejercicios Propuestos."
   ]
  },
  {
   "cell_type": "markdown",
   "metadata": {},
   "source": [
    "### 1. Determinar si un ISBN tiene un número de registro valido."
   ]
  },
  {
   "cell_type": "code",
   "execution_count": 1,
   "metadata": {},
   "outputs": [
    {
     "name": "stdout",
     "output_type": "stream",
     "text": [
      "Valid\n"
     ]
    }
   ],
   "source": [
    "\"\"\"\n",
    "Funcion para verificar la validez de un ISBN, la descripción del algoritmo se encuentra en un\n",
    "sin número de paginas en la web.\n",
    "\"\"\"\n",
    "\n",
    "def isValidISBN(isbn):\n",
    "    # Longitud del numero.\n",
    "    if len(isbn) != 10:\n",
    "        return False\n",
    "     \n",
    "    \n",
    "    # Suma de los primeros nueve digitos.\n",
    "    _sum = 0\n",
    "    for i in range(9):\n",
    "        if 0 <= int(isbn[i]) <= 9:\n",
    "            _sum += int(isbn[i]) * (10 - i)\n",
    "        else:\n",
    "            return False\n",
    "         \n",
    "    # Verificar el ultimo numero\n",
    "    if(isbn[9] != 'X' and\n",
    "       0 <= int(isbn[9]) <= 9):\n",
    "        return False\n",
    "     \n",
    "    #Condicion de del 10 y noveno numero.\n",
    "    _sum += 10 if isbn[9] == 'X' else int(isbn[9])\n",
    "     \n",
    "    # Comprobacion del modulo para 11.\n",
    "    return (_sum % 11 == 0)\n",
    " \n",
    "if __name__ == \"__main__\":\n",
    "    isbn = \"007462542X\"\n",
    "    if isValidISBN(isbn):\n",
    "        print('Valido')\n",
    "    else:\n",
    "        print(\"No valido\")"
   ]
  },
  {
   "cell_type": "markdown",
   "metadata": {},
   "source": [
    "### 2. Implemente el algoritmo de Luhn para la verificación de números de tarjetas de credito. "
   ]
  },
  {
   "cell_type": "code",
   "execution_count": 6,
   "metadata": {},
   "outputs": [
    {
     "name": "stdout",
     "output_type": "stream",
     "text": [
      "Correct:True\n",
      "Correct:True\n",
      "Correct:True\n"
     ]
    }
   ],
   "source": [
    "def luhn_checksum(card_number):\n",
    "    def digits_of(n):\n",
    "        return [int(d) for d in str(n)]\n",
    "    digits = digits_of(card_number)\n",
    "    odd_digits = digits[-1::-2]\n",
    "    even_digits = digits[-2::-2]\n",
    "    checksum = 0\n",
    "    checksum += sum(odd_digits)\n",
    "    for d in even_digits:\n",
    "        checksum += sum(digits_of(d*2))\n",
    "    return checksum % 10\n",
    "\n",
    "def is_luhn_valid(card_number):\n",
    "    return luhn_checksum(card_number) == 0\n",
    "\n",
    "if __name__ == \"__main__\":\n",
    "    result = is_luhn_valid(4532015112830366)\n",
    "    print('Correct:' + str(result))\n",
    "    result = is_luhn_valid(6011514433546201)\n",
    "    print('Correct:' + str(result))\n",
    "    result = is_luhn_valid(6771549495586802)\n",
    "    print('Correct:' + str(result))"
   ]
  },
  {
   "cell_type": "markdown",
   "metadata": {},
   "source": [
    "### 3. Escriba un programa que genere números PseudoAletorios. "
   ]
  },
  {
   "cell_type": "code",
   "execution_count": 15,
   "metadata": {},
   "outputs": [
    {
     "name": "stdout",
     "output_type": "stream",
     "text": [
      "2\n",
      "6\n",
      "1\n",
      "9\n"
     ]
    }
   ],
   "source": [
    "def generate_random(n:int):\n",
    "    for i in range(1,n+1):\n",
    "        print(i*(i+1) % 11)\n",
    "\n",
    "if __name__ == \"__main__\":\n",
    "    generate_random(4)"
   ]
  },
  {
   "cell_type": "markdown",
   "metadata": {},
   "source": [
    "### 4. Dada la siguiente secuencia calcule el valor de Pi: $\\sum^{inf}_{n=0}\\frac{(-1)^n}{2n + 1} = \\frac{\\pi}{4}$ Ayuda: Use el concepto de tolerancia. "
   ]
  },
  {
   "cell_type": "code",
   "execution_count": null,
   "metadata": {},
   "outputs": [],
   "source": [
    "def calcular_pi(tolerancia):\n",
    "    sum = 0 \n",
    "    i = 0\n",
    "    n = ((-1)**i) / (2*i + 1)\n",
    "    m = ((-1)**(i+1)) / (2*(i+1) + 1)\n",
    "\n",
    "    while abs(n-m)>=tolerancia: \n",
    "        n = ((-1)**i) / (2*i + 1)\n",
    "        m = ((-1)**(i+1)) / (2*(i+1) + 1)\n",
    "        sum = sum + ((-1)**i) / (2*i + 1)\n",
    "        i+=1\n",
    "    \n",
    "    return sum*4\n",
    "\n",
    "def main():\n",
    "    print(calcular_pi(0.000001))\n",
    "\n",
    "\n",
    "if __name__ == '__main__': \n",
    "    main()"
   ]
  },
  {
   "cell_type": "markdown",
   "metadata": {},
   "source": [
    "### 5. Escriba una función que determine si A es o no antisimetrica."
   ]
  }
 ],
 "metadata": {
  "interpreter": {
   "hash": "aee8b7b246df8f9039afb4144a1f6fd8d2ca17a180786b69acc140d282b71a49"
  },
  "kernelspec": {
   "display_name": "Python 3.10.0 64-bit",
   "language": "python",
   "name": "python3"
  },
  "language_info": {
   "codemirror_mode": {
    "name": "ipython",
    "version": 3
   },
   "file_extension": ".py",
   "mimetype": "text/x-python",
   "name": "python",
   "nbconvert_exporter": "python",
   "pygments_lexer": "ipython3",
   "version": "3.10.0"
  },
  "orig_nbformat": 4
 },
 "nbformat": 4,
 "nbformat_minor": 2
}
