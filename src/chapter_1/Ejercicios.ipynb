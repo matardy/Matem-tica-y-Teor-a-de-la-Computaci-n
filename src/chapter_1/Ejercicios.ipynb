{
 "cells": [
  {
   "cell_type": "markdown",
   "metadata": {},
   "source": [
    "# Capitulo 1: Computer Exercises "
   ]
  },
  {
   "cell_type": "markdown",
   "metadata": {},
   "source": [
    "Los ejercicios pueden ser implementados en cualquier lenguaje de programación, en este caso las soluciones se realizarán en Python."
   ]
  },
  {
   "cell_type": "markdown",
   "metadata": {},
   "source": [
    "### Ej.1"
   ]
  },
  {
   "cell_type": "markdown",
   "metadata": {},
   "source": [
    "1. Dados dos arrays A y B escriba un programa para determinar si A = B. Si no son iguales, imprima los valores que hacen que no se cumpla A=B.\n",
    "    input: A = [1,2,3,5,8] , B = [8,5,3,2,0] ------- output: (1,0)\n",
    "    input: A = [1,2,3,5,8], B = [1,2,3,5,8] -------- output: True\n",
    "\n",
    "    Realice el proceso iterativo, NO USE FUNCIONES YA IMPLEMENTADAS EN EL LENGUAJE DE PROGRAMACION.\n"
   ]
  },
  {
   "cell_type": "code",
   "execution_count": 35,
   "metadata": {},
   "outputs": [
    {
     "name": "stdout",
     "output_type": "stream",
     "text": [
      "Los elementos que rompen con la equivalencia en el Array 1 es:  1\n",
      "Los elementos que rompen con la equivalencia en el Array 2 es:  0\n"
     ]
    }
   ],
   "source": [
    "A = [1,2,3,5,8]\n",
    "B = [8,5,3,2,0]\n",
    "\n",
    "\n",
    "def Compare_array(arr_1, arr_2):\n",
    "    count = 0 \n",
    "    if(len(arr_1) == len(arr_2)):\n",
    "        for i in arr_1:\n",
    "            for j in arr_2: \n",
    "                if i == j:\n",
    "                    count += 1\n",
    "                    break\n",
    "        return count == len(arr_1)\n",
    "    else:\n",
    "        return false\n",
    "\n",
    "def extract_diferent(arr_1, arr_2):\n",
    "    count = 0 \n",
    "    for i in arr_1:\n",
    "        for j in arr_2:\n",
    "            if(i!=j):\n",
    "                count += 1\n",
    "        if (count == len(arr_1)):\n",
    "            print(\"Los elementos que rompen con la equivalencia en el Array 1 es: \", i)\n",
    "        count = 0 \n",
    "    for i in arr_2:\n",
    "        for j in arr_1:\n",
    "            if(i!=j):\n",
    "                count += 1\n",
    "        if (count == len(arr_1)):\n",
    "            print(\"Los elementos que rompen con la equivalencia en el Array 2 es: \", i)\n",
    "        count = 0 \n",
    "                \n",
    "\n",
    "def solution():\n",
    "\n",
    "    if(Compare_array(A,B)):\n",
    "        return True\n",
    "    else:\n",
    "        extract_diferent(A,B)\n",
    "\n",
    "\n",
    "if __name__ == \"__main__\":\n",
    "    solution()\n",
    "        \n",
    "            \n"
   ]
  },
  {
   "cell_type": "markdown",
   "metadata": {},
   "source": [
    "### Ej 2"
   ]
  },
  {
   "cell_type": "markdown",
   "metadata": {},
   "source": [
    "Realice un programa que revise si un arreglo es subconjunto de otro, PUEDE USAR FUNCIONES YA IMPLEMENTADAS EN EL LENGUAJE DE PROGRAMACION."
   ]
  },
  {
   "cell_type": "code",
   "execution_count": 55,
   "metadata": {},
   "outputs": [
    {
     "name": "stdout",
     "output_type": "stream",
     "text": [
      "No lo es\n",
      "B es subconjunto de A\n"
     ]
    }
   ],
   "source": [
    "A = [1,2,3,4,5]\n",
    "B = [1,2,3,4]\n",
    "\n",
    "A = set(A)\n",
    "B = set(B)\n",
    "\n",
    "if (A.issubset(B)):\n",
    "    print(\"A es subconjunto de B\")\n",
    "else: \n",
    "    print(\"No lo es\")\n",
    "\n",
    "if(B.issubset(A)):\n",
    "    print(\"B es subconjunto de A\")\n",
    "else: \n",
    "    print(\"No lo es\")"
   ]
  },
  {
   "cell_type": "markdown",
   "metadata": {},
   "source": [
    "### Ej 3\n"
   ]
  },
  {
   "cell_type": "markdown",
   "metadata": {},
   "source": [
    "3. Genere una tabla de verdad con el valor logico conjunción dados P y Q: \n",
    "\n",
    "    Debe crear una funcion que genere los valores de P y otra que genere los valores Q para finalmente una funcion que calcule la expresion logica ^\n",
    "        Recuerde que: Si ambas P y Q son verdades P^Q es verdad, caso contrario es negativo.\n"
   ]
  },
  {
   "cell_type": "code",
   "execution_count": 50,
   "metadata": {},
   "outputs": [
    {
     "name": "stdout",
     "output_type": "stream",
     "text": [
      "True \t True \t True\n",
      "True \t False \t False\n",
      "False \t True \t False\n",
      "False \t False \t False\n"
     ]
    }
   ],
   "source": [
    "\"\"\"\n",
    "P  Q  (P ^ Q)\n",
    "V  V    V\n",
    "V  F    F\n",
    "F  V    F\n",
    "F  F    F\n",
    "\n",
    "\"\"\"\n",
    "\n",
    "def generate_P():\n",
    "    return [True, True, False, False]\n",
    "\n",
    "def generate_Q():\n",
    "    return [True, False, True, False]\n",
    "\n",
    "def generate_truth_table():\n",
    "    my_list = generate_P()\n",
    "    for i in range(len(my_list)):\n",
    "        print(generate_P()[i],\"\\t\", generate_Q()[i], \"\\t\", (generate_P()[i] & generate_Q()[i]))\n",
    "\n",
    "generate_truth_table()"
   ]
  },
  {
   "cell_type": "markdown",
   "metadata": {},
   "source": [
    "### Ej. 4\n"
   ]
  },
  {
   "cell_type": "markdown",
   "metadata": {},
   "source": [
    "Cree un programa que verifique si (p → ¬q) ∨ (¬p ∨ r)  es equivalentemente logica con ¬p ∨ ¬q ∨ r."
   ]
  },
  {
   "cell_type": "code",
   "execution_count": 74,
   "metadata": {},
   "outputs": [
    {
     "name": "stdout",
     "output_type": "stream",
     "text": [
      "[True, True, True, True, False, False, False, False]\n",
      "Las expresiones son equivalentemente logicas!\n"
     ]
    }
   ],
   "source": [
    "\"\"\"\n",
    "Esta funcion genera las tablas de verdad de las n variables\n",
    "que el usuario desee. \n",
    "\"\"\"\n",
    "def generate_variable(n:int):\n",
    "    count = 0\n",
    "    my_list = []\n",
    "    num = 4\n",
    "    for i in range(0, 3):\n",
    "        my_row = []\n",
    "        for j in range(0, int(2**n)):\n",
    "            if(count >=num):\n",
    "                my_row.append(False)\n",
    "            else: \n",
    "                my_row.append(True)\n",
    "            count +=1\n",
    "        count = 0\n",
    "        num = num/2\n",
    "        my_list.append(my_row)       \n",
    "    return my_list\n",
    "\n",
    "\"\"\"\n",
    "Operador negacion ~\n",
    "\"\"\"\n",
    "def negation(P):\n",
    "    for i in range(len(P)):\n",
    "        P[i] = not(P[i])\n",
    "    return P\n",
    "\n",
    "## Notese que p → ¬q == ~p v ~q\n",
    "## Expresion a verificar: (p → ¬q) ∨ (¬p ∨ r) con ¬p ∨ ¬q ∨ r.\n",
    "\n",
    "\n",
    "\n",
    "def solution():\n",
    "    my_variables = generate_variable(3) # index(0):p , index(1):q, index(2):r\n",
    "    \n",
    "    first_expresion  = (negation(my_variables[0]) or  negation(my_variables[1])) or (negation(my_variables[0]) or my_variables[2])\n",
    "    sec_expresion = negation(my_variables[0]) or negation(my_variables[1]) or my_variables[2]\n",
    "    print(sec_expresion)\n",
    "\n",
    "    if(first_expresion == sec_expresion):\n",
    "        print(\"Las expresiones son equivalentemente logicas!\")\n",
    "    else:\n",
    "        print(\"Las expresiones no son equivalentemente logicas!\")\n",
    "\n",
    "if __name__ == \"__main__\":\n",
    "    solution()\n"
   ]
  },
  {
   "cell_type": "markdown",
   "metadata": {},
   "source": [
    "### Ej.5"
   ]
  },
  {
   "cell_type": "markdown",
   "metadata": {},
   "source": [
    "Cree un programa que implemente el operador logico ( V )"
   ]
  }
 ],
 "metadata": {
  "interpreter": {
   "hash": "aee8b7b246df8f9039afb4144a1f6fd8d2ca17a180786b69acc140d282b71a49"
  },
  "kernelspec": {
   "display_name": "Python 3.10.0 64-bit",
   "language": "python",
   "name": "python3"
  },
  "language_info": {
   "codemirror_mode": {
    "name": "ipython",
    "version": 3
   },
   "file_extension": ".py",
   "mimetype": "text/x-python",
   "name": "python",
   "nbconvert_exporter": "python",
   "pygments_lexer": "ipython3",
   "version": "3.10.0"
  },
  "orig_nbformat": 4
 },
 "nbformat": 4,
 "nbformat_minor": 2
}
