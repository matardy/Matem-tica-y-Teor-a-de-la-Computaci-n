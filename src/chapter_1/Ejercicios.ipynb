{
 "cells": [
  {
   "cell_type": "markdown",
   "metadata": {},
   "source": [
    "# Capitulo 1: Computer Exercises "
   ]
  },
  {
   "cell_type": "markdown",
   "metadata": {},
   "source": [
    "Los ejercicios pueden ser implementados en cualquier lenguaje de programación, en este caso las soluciones se realizarán en Python."
   ]
  },
  {
   "cell_type": "markdown",
   "metadata": {},
   "source": [
    "### Ej.1"
   ]
  },
  {
   "cell_type": "markdown",
   "metadata": {},
   "source": [
    "1. Dados dos arrays A y B escriba un programa para determinar si A = B. Si no son iguales, imprima los valores que hacen que no se cumpla A=B.\n",
    "    input: A = [1,2,3,5,8] , B = [8,5,3,2,0] ------- output: (1,0)\n",
    "    input: A = [1,2,3,5,8], B = [1,2,3,5,8] -------- output: True\n",
    "\n",
    "    Realice el proceso iterativo, NO USE FUNCIONES YA IMPLEMENTADAS EN EL LENGUAJE DE PROGRAMACION.\n"
   ]
  },
  {
   "cell_type": "code",
   "execution_count": 35,
   "metadata": {},
   "outputs": [
    {
     "name": "stdout",
     "output_type": "stream",
     "text": [
      "Los elementos que rompen con la equivalencia en el Array 1 es:  1\n",
      "Los elementos que rompen con la equivalencia en el Array 2 es:  0\n"
     ]
    }
   ],
   "source": [
    "A = [1,2,3,5,8]\n",
    "B = [8,5,3,2,0]\n",
    "\n",
    "\n",
    "def Compare_array(arr_1, arr_2):\n",
    "    count = 0 \n",
    "    if(len(arr_1) == len(arr_2)):\n",
    "        for i in arr_1:\n",
    "            for j in arr_2: \n",
    "                if i == j:\n",
    "                    count += 1\n",
    "                    break\n",
    "        return count == len(arr_1)\n",
    "    else:\n",
    "        return false\n",
    "\n",
    "def extract_diferent(arr_1, arr_2):\n",
    "    count = 0 \n",
    "    for i in arr_1:\n",
    "        for j in arr_2:\n",
    "            if(i!=j):\n",
    "                count += 1\n",
    "        if (count == len(arr_1)):\n",
    "            print(\"Los elementos que rompen con la equivalencia en el Array 1 es: \", i)\n",
    "        count = 0 \n",
    "    for i in arr_2:\n",
    "        for j in arr_1:\n",
    "            if(i!=j):\n",
    "                count += 1\n",
    "        if (count == len(arr_1)):\n",
    "            print(\"Los elementos que rompen con la equivalencia en el Array 2 es: \", i)\n",
    "        count = 0 \n",
    "                \n",
    "\n",
    "def solution():\n",
    "\n",
    "    if(Compare_array(A,B)):\n",
    "        return True\n",
    "    else:\n",
    "        extract_diferent(A,B)\n",
    "\n",
    "\n",
    "if __name__ == \"__main__\":\n",
    "    solution()\n",
    "        \n",
    "            \n"
   ]
  },
  {
   "cell_type": "markdown",
   "metadata": {},
   "source": [
    "### Ej 2"
   ]
  },
  {
   "cell_type": "markdown",
   "metadata": {},
   "source": [
    "Realice un programa que revise si un arreglo es subconjunto de otro, PUEDE USAR FUNCIONES YA IMPLEMENTADAS EN EL LENGUAJE DE PROGRAMACION."
   ]
  },
  {
   "cell_type": "code",
   "execution_count": 55,
   "metadata": {},
   "outputs": [
    {
     "name": "stdout",
     "output_type": "stream",
     "text": [
      "No lo es\n",
      "B es subconjunto de A\n"
     ]
    }
   ],
   "source": [
    "A = [1,2,3,4,5]\n",
    "B = [1,2,3,4]\n",
    "\n",
    "A = set(A)\n",
    "B = set(B)\n",
    "\n",
    "if (A.issubset(B)):\n",
    "    print(\"A es subconjunto de B\")\n",
    "else: \n",
    "    print(\"No lo es\")\n",
    "\n",
    "if(B.issubset(A)):\n",
    "    print(\"B es subconjunto de A\")\n",
    "else: \n",
    "    print(\"No lo es\")"
   ]
  },
  {
   "cell_type": "markdown",
   "metadata": {},
   "source": [
    "### Ej 3\n"
   ]
  },
  {
   "cell_type": "markdown",
   "metadata": {},
   "source": [
    "3. Genere una tabla de verdad con el valor logico conjunción dados P y Q: \n",
    "\n",
    "    Debe crear una funcion que genere los valores de P y otra que genere los valores Q para finalmente una funcion que calcule la expresion logica ^\n",
    "        Recuerde que: Si ambas P y Q son verdades P^Q es verdad, caso contrario es negativo.\n"
   ]
  },
  {
   "cell_type": "code",
   "execution_count": 50,
   "metadata": {},
   "outputs": [
    {
     "name": "stdout",
     "output_type": "stream",
     "text": [
      "True \t True \t True\n",
      "True \t False \t False\n",
      "False \t True \t False\n",
      "False \t False \t False\n"
     ]
    }
   ],
   "source": [
    "\"\"\"\n",
    "P  Q  (P ^ Q)\n",
    "V  V    V\n",
    "V  F    F\n",
    "F  V    F\n",
    "F  F    F\n",
    "\n",
    "\"\"\"\n",
    "\n",
    "def generate_P():\n",
    "    return [True, True, False, False]\n",
    "\n",
    "def generate_Q():\n",
    "    return [True, False, True, False]\n",
    "\n",
    "def generate_truth_table():\n",
    "    my_list = generate_P()\n",
    "    for i in range(len(my_list)):\n",
    "        print(generate_P()[i],\"\\t\", generate_Q()[i], \"\\t\", (generate_P()[i] & generate_Q()[i]))\n",
    "\n",
    "generate_truth_table()"
   ]
  },
  {
   "cell_type": "markdown",
   "metadata": {},
   "source": [
    "### Ej. 4\n"
   ]
  },
  {
   "cell_type": "markdown",
   "metadata": {},
   "source": [
    "Escriba un programa que verifique si dos variables P y Q son equivalentemente logicas. Nota: Puede ayudarse del Ej anterior para simplificar su trabajo. "
   ]
  },
  {
   "cell_type": "code",
   "execution_count": 52,
   "metadata": {},
   "outputs": [
    {
     "name": "stdout",
     "output_type": "stream",
     "text": [
      "Las expresiones son equivalentemente logicas\n"
     ]
    }
   ],
   "source": [
    "def generate_P():\n",
    "    return [True, True, False, False]\n",
    "\n",
    "def generate_Q():\n",
    "    return [True, False, True, False]\n",
    "\n",
    "def check_equi():\n",
    "    form1 = []\n",
    "    form2 = []\n",
    "    my_list = generate_P()\n",
    "    for i in range(len(my_list)):\n",
    "        form1 = (generate_P()[i] & generate_Q()[i])\n",
    "        form2 = (generate_Q()[i] & generate_P()[i])\n",
    "\n",
    "    if (form1 == form2):\n",
    "        print(\"Las expresiones son equivalentemente logicas\")\n",
    "    else:\n",
    "        print(\"No son expresiones equivalentes.\")\n",
    "\n",
    "check_equi()"
   ]
  },
  {
   "cell_type": "markdown",
   "metadata": {},
   "source": [
    "### Ej.5"
   ]
  },
  {
   "cell_type": "markdown",
   "metadata": {},
   "source": [
    "Cree un programa que implemente el operador logico ( V )"
   ]
  }
 ],
 "metadata": {
  "interpreter": {
   "hash": "aee8b7b246df8f9039afb4144a1f6fd8d2ca17a180786b69acc140d282b71a49"
  },
  "kernelspec": {
   "display_name": "Python 3.10.0 64-bit",
   "language": "python",
   "name": "python3"
  },
  "language_info": {
   "codemirror_mode": {
    "name": "ipython",
    "version": 3
   },
   "file_extension": ".py",
   "mimetype": "text/x-python",
   "name": "python",
   "nbconvert_exporter": "python",
   "pygments_lexer": "ipython3",
   "version": "3.10.0"
  },
  "orig_nbformat": 4
 },
 "nbformat": 4,
 "nbformat_minor": 2
}
